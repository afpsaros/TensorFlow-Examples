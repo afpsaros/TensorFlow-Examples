{
 "cells": [
  {
   "cell_type": "code",
   "execution_count": 12,
   "metadata": {},
   "outputs": [],
   "source": [
    "from __future__ import print_function\n",
    "\n",
    "import tensorflow as tf\n",
    "import numpy as np\n",
    "import matplotlib.pyplot as plt"
   ]
  },
  {
   "cell_type": "code",
   "execution_count": 224,
   "metadata": {},
   "outputs": [
    {
     "name": "stdout",
     "output_type": "stream",
     "text": [
      "(100, 1) (100, 1)\n"
     ]
    },
    {
     "data": {
      "image/png": "[encoded data removed]",
      "text/plain": [
       "<Figure size 432x288 with 1 Axes>"
      ]
     },
     "metadata": {
      "needs_background": "light"
     },
     "output_type": "display_data"
    }
   ],
   "source": [
    "Xtr = np.linspace(0,10,100)\n",
    "Xtr = Xtr.reshape((100,1))\n",
    "Ytr = np.sin(Xtr) + 2* np.sin(2 * Xtr) + 0.3 * (Xtr - 5)**2 + np.random.normal(0, 0.5, [100,1])\n",
    "print(Ytr.shape, Xtr.shape)\n",
    "\n",
    "plt.plot(Xtr, Ytr, 'bo')\n",
    "plt.show()"
   ]
  },
  {
   "cell_type": "code",
   "execution_count": 225,
   "metadata": {},
   "outputs": [],
   "source": [
    "# Parameters\n",
    "learning_rate = 0.01\n",
    "num_epochs = 2000\n",
    "# batch_size = 10\n",
    "display_step = 100\n",
    "\n",
    "# Network Parameters\n",
    "n_hidden_1 = 256 # 1st layer number of neurons\n",
    "n_hidden_2 = 256 # 2nd layer number of neurons\n",
    "num_input = 1 # MNIST data input (img shape: 28*28)\n",
    "num_output = 1 # MNIST total classes (0-9 digits)\n",
    "\n",
    "# tf Graph input\n",
    "X = tf.placeholder(\"float\", [None, num_input])\n",
    "Y = tf.placeholder(\"float\", [None, num_output])"
   ]
  },
  {
   "cell_type": "code",
   "execution_count": 226,
   "metadata": {},
   "outputs": [],
   "source": [
    "# Store layers weight & bias\n",
    "weights = {\n",
    "    'h1': tf.Variable(tf.random_normal([num_input, n_hidden_1])),\n",
    "    'h2': tf.Variable(tf.random_normal([n_hidden_1, n_hidden_2])),\n",
    "    'out': tf.Variable(tf.random_normal([n_hidden_2, num_output]))\n",
    "}\n",
    "biases = {\n",
    "    'b1': tf.Variable(tf.random_normal([n_hidden_1])),\n",
    "    'b2': tf.Variable(tf.random_normal([n_hidden_2])),\n",
    "    'out': tf.Variable(tf.random_normal([num_output]))\n",
    "}"
   ]
  },
  {
   "cell_type": "code",
   "execution_count": 227,
   "metadata": {},
   "outputs": [],
   "source": [
    "# Create model\n",
    "def neural_net(x):\n",
    "    # Hidden fully connected layer with 256 neurons\n",
    "    layer_1 = tf.nn.sigmoid(tf.add(tf.matmul(x, weights['h1']), biases['b1']))\n",
    "    # Hidden fully connected layer with 256 neurons\n",
    "    layer_2 = tf.nn.sigmoid(tf.add(tf.matmul(layer_1, weights['h2']), biases['b2']))\n",
    "    # Output fully connected layer \n",
    "    out_layer = tf.add(tf.matmul(layer_2, weights['out']), biases['out'])\n",
    "    return out_layer"
   ]
  },
  {
   "cell_type": "code",
   "execution_count": 228,
   "metadata": {},
   "outputs": [],
   "source": [
    "# Construct model\n",
    "fp = neural_net(X)\n",
    "\n",
    "# Define loss and optimizer\n",
    "cost = tf.reduce_sum(tf.pow(fp-Y, 2))\n",
    "optimizer = tf.train.AdamOptimizer(learning_rate=learning_rate)\n",
    "train_op = optimizer.minimize(cost)\n",
    "\n",
    "# Initialize the variables (i.e. assign their default value)\n",
    "init = tf.global_variables_initializer()"
   ]
  },
  {
   "cell_type": "code",
   "execution_count": 229,
   "metadata": {},
   "outputs": [],
   "source": [
    "sess = tf.Session()\n",
    "sess.run(init)"
   ]
  },
  {
   "cell_type": "code",
   "execution_count": 230,
   "metadata": {},
   "outputs": [
    {
     "name": "stdout",
     "output_type": "stream",
     "text": [
      "Epoch 1, Loss= 3477.7051\n",
      "Epoch 100, Loss= 157.9945\n",
      "Epoch 200, Loss= 90.3294\n",
      "Epoch 300, Loss= 65.9366\n",
      "Epoch 400, Loss= 57.7670\n",
      "Epoch 500, Loss= 49.8756\n",
      "Epoch 600, Loss= 44.3156\n",
      "Epoch 700, Loss= 39.6570\n",
      "Epoch 800, Loss= 34.8946\n",
      "Epoch 900, Loss= 30.2432\n",
      "Epoch 1000, Loss= 26.9760\n",
      "Epoch 1100, Loss= 25.2126\n",
      "Epoch 1200, Loss= 24.2953\n",
      "Epoch 1300, Loss= 23.7930\n",
      "Epoch 1400, Loss= 23.4831\n",
      "Epoch 1500, Loss= 23.3111\n",
      "Epoch 1600, Loss= 23.0683\n",
      "Epoch 1700, Loss= 22.9114\n",
      "Epoch 1800, Loss= 22.7478\n",
      "Epoch 1900, Loss= 22.6065\n",
      "Epoch 2000, Loss= 22.4671\n",
      "Optimization Finished!\n"
     ]
    }
   ],
   "source": [
    "for epoch in range(num_epochs):\n",
    "\n",
    "    # Run optimization op (backprop)\n",
    "    sess.run(train_op, feed_dict={X: Xtr, Y: Ytr})\n",
    "    if (epoch+1) % display_step == 0 or epoch == 0:\n",
    "#         # Calculate batch loss and accuracy\n",
    "        loss = sess.run(cost, feed_dict={X: Xtr, Y: Ytr})\n",
    "        print(\"Epoch \" + str(epoch+1) + \", Loss= \" + \\\n",
    "              \"{:.4f}\".format(loss))        \n",
    "        \n",
    "\n",
    "print(\"Optimization Finished!\")\n",
    "\n"
   ]
  },
  {
   "cell_type": "code",
   "execution_count": 231,
   "metadata": {},
   "outputs": [
    {
     "data": {
      "image/png": "[encoded data removed]",
      "text/plain": [
       "<Figure size 432x288 with 1 Axes>"
      ]
     },
     "metadata": {
      "needs_background": "light"
     },
     "output_type": "display_data"
    }
   ],
   "source": [
    "Xtest = np.linspace(0,10,1000)\n",
    "Xtest = Xtest.reshape((1000,1))\n",
    "Ytest = sess.run(fp, feed_dict = {X:Xtest})\n",
    "\n",
    "plt.plot(Xtr, Ytr, 'bo')\n",
    "plt.plot(Xtest, Ytest)\n",
    "plt.show()"
   ]
  },
  {
   "cell_type": "code",
   "execution_count": 45,
   "metadata": {},
   "outputs": [
    {
     "data": {
      "text/plain": [
       "(2, 1)"
      ]
     },
     "execution_count": 45,
     "metadata": {},
     "output_type": "execute_result"
    }
   ],
   "source": [
    "z = np.array([[0],[1]])\n",
    "z.shape"
   ]
  }
 ],
 "metadata": {
  "kernelspec": {
   "display_name": "Python 3",
   "language": "python",
   "name": "python3"
  },
  "language_info": {
   "codemirror_mode": {
    "name": "ipython",
    "version": 3
   },
   "file_extension": ".py",
   "mimetype": "text/x-python",
   "name": "python",
   "nbconvert_exporter": "python",
   "pygments_lexer": "ipython3",
   "version": "3.7.3"
  }
 },
 "nbformat": 4,
 "nbformat_minor": 2
}
